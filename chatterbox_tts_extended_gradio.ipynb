{
 "cells": [
  {
   "cell_type": "markdown",
   "metadata": {
    "id": "view-in-github",
    "colab_type": "text"
   },
   "source": [
    "<a href=\"https://colab.research.google.com/github/Wamp1re-Ai/Chatterbox-TTS-Extended/blob/main/chatterbox_tts_extended_gradio.ipynb\" target=\"_parent\"><img src=\"https://colab.research.google.com/assets/colab-badge.svg\" alt=\"Open In Colab\"/></a>"
   ]
  },
  {
   "cell_type": "markdown",
   "metadata": {
    "id": "title"
   },
   "source": [
    "# 🎧 Chatterbox TTS Extended - Gradio Interface\n",
    "\n",
    "This notebook allows you to run the [Chatterbox TTS Extended](https://github.com/Wamp1re-Ai/Chatterbox-TTS-Extended) Gradio interface directly in Google Colab."
   ]
  },
  {
   "cell_type": "markdown",
   "metadata": {
    "id": "setup"
   },
   "source": [
    "## Setup\n",
    "\n",
    "First, we'll clone the repository and install the required dependencies."
   ]
  },
 {
   "cell_type": "code",
   "execution_count": null,
   "metadata": {
    "id": "clone-and-install"
   },
   "outputs": [],
   "source": [
    "# Clone the repository\n",
    "!git clone https://github.com/Wamp1re-Ai/Chatterbox-TTS-Extended.git\n",
    "%cd Chatterbox-TTS-Extended\n",
    "\n",
    "# Install uv package manager for faster dependency installation\n",
    "!pip install uv\n",
    "\n",
    "# Install PyTorch, torchaudio, and torchvision first to ensure compatibility\n",
    "!uv pip install torch==2.7.0 torchaudio==2.7.0 torchvision --index-url https://download.pytorch.org/whl/cu128\n",
    "\n",
    "# Install compatible versions of transformers\n",
    "!uv pip install transformers==4.46.3\n",
    "\n",
    "# Install other dependencies from requirements file\n",
    "!uv pip install -r requirements.txt\n",
    "\n",
    "# Install additional dependencies that might be needed\n",
    "!uv pip install nltk\n",
    "\n",
    "# Download NLTK data\n",
    "import nltk\n",
    "nltk.download('punkt')\n",
    "nltk.download('punkt_tab')"
   ]
  },
  {
   "cell_type": "markdown",
   "metadata": {
    "id": "launch"
   },
   "source": [
    "## Launch Gradio Interface\n",
    "\n",
    "Now let's launch the Chatterbox TTS Extended Gradio interface."
   ]
  },
  {
   "cell_type": "code",
   "execution_count": null,
   "metadata": {
    "id": "launch-gradio"
   },
   "outputs": [],
   "source": [
    "import sys\n",
    "import os\n",
    "\n",
    "# Add the current directory to Python path\n",
    "sys.path.append(os.getcwd())\n",
    "sys.path.append(os.path.join(os.getcwd(), 'chatterbox/src'))\n",
    "\n",
    "# Launch the Gradio interface\n",
    "!python Chatter.py --share"
   ]
  },
  {
   "cell_type": "markdown",
   "metadata": {
    "id": "troubleshooting"
   },
   "source": [
    "## Troubleshooting\n",
    "\n",
    "If you encounter any issues:\n",
    "\n",
    "1. Make sure you're using a GPU runtime in Colab (Runtime → Change runtime type → GPU)\n",
    "2. If you get out-of-memory errors, try using a CPU runtime (slower but uses less memory)\n",
    "3. If you encounter import errors, try restarting the runtime (Runtime → Restart runtime) and running the cells again\n",
    "4. If you still encounter issues with missing operators, try running the following command to install additional dependencies:\n",
    "   ```\n",
    "   !uv pip install torchvision\n",
    "   ```"
   ]
  },
  {
   "cell_type": "markdown",
   "metadata": {
    "id": "conclusion"
   },
   "source": [
    "## Conclusion\n",
    "\n",
    "You've successfully launched the Chatterbox TTS Extended Gradio interface in Google Colab! You can now use the full web interface to generate high-quality speech from text with various emotional expressions and styles.\n",
    "\n",
    "For more information about the parameters and advanced usage, check out the [Chatterbox TTS Extended GitHub repository](https://github.com/Wamp1re-Ai/Chatterbox-TTS-Extended)."
   ]
  }
 ],
 "metadata": {
  "accelerator": "GPU",
  "colab": {
   "gpuType": "T4",
   "provenance": []
  },
  "kernelspec": {
   "display_name": "Python 3",
   "name": "python3"
  },
  "language_info": {
   "name": "python"
  }
 },
 "nbformat": 4,
 "nbformat_minor": 0
}